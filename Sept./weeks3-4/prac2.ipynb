{
 "cells": [
  {
   "cell_type": "markdown",
   "metadata": {},
   "source": [
    "# Introduction to Artificial Intelligence for Non Computing"
   ]
  },
  {
   "cell_type": "markdown",
   "metadata": {},
   "source": [
    "## Practical 2 (weeks 3 - 4)"
   ]
  },
  {
   "cell_type": "markdown",
   "metadata": {},
   "source": [
    "## Search Techniques"
   ]
  },
  {
   "cell_type": "markdown",
   "metadata": {},
   "source": [
    "The following links provide additional information about depth first search and breath first search"
   ]
  },
  {
   "cell_type": "markdown",
   "metadata": {},
   "source": [
    "- Depth first search:   link：https://pan.baidu.com/s/1bkLHKKbSBNpfFuKwDyURqw  password：oy76\n",
    "- Breath first search:  link：https://pan.baidu.com/s/176g5q0W3rGbSAM5tZMraeg   password：7mdh"
   ]
  },
  {
   "cell_type": "markdown",
   "metadata": {},
   "source": [
    "#### Theory Questions "
   ]
  },
  {
   "cell_type": "markdown",
   "metadata": {},
   "source": [
    "1\\. What is an algorithm? A sequence of steps such as a recipe or a movie script.\n",
    "\n",
    "As a movie viewer, please write an algorithm for a process to \"see a movie\". Include details of the following for example (add additional information yourself):\n",
    "\t- The start conditions \n",
    "\t-- I want to watch a movie\n",
    "\t- Roles (people/actors involved) \n",
    "    --watcher, ticket seller etc \n",
    "    -Equipment required (\"props\")\n",
    "    --seats, ticket etc\n",
    "    - The scenes \n",
    "    -- scene 1 - buy ticket \n",
    "    -- ??? what happens next\n",
    "    -- scene 3, scene 3 ...\n",
    "    - Results/outcomes\n",
    "    -- ?\n"
   ]
  },
  {
   "cell_type": "raw",
   "metadata": {},
   "source": [
    "_your answer here..._ \n",
    "Me = Roles()\n",
    "friends = Roles()\n",
    "actors = Roles()\n",
    "\n",
    "class Scene():\n",
    "        def __initial__(self, role, action, equip):\n",
    "             self.role = role\n",
    "             self.action = action\n",
    "             self.equip = equip\n",
    "        \n",
    "        def run(self):\n",
    "              (self.role).excute(self.action)\n",
    "\n",
    "scene_sequence = []\n",
    "scene1 = Scene(Me, wantToWatchMovie, 0)\n",
    "scene_sequence.append(scene1)\n",
    "scene2 = Scene(Me, buyTicket, money)\n",
    "scene_sequence.append(scene2)\n",
    "scene3 = Scene(friends, invitedToTheater, tickets)\n",
    "scene_sequence.append(scene3)\n",
    "scene4 = Scene(Me, findSeats, seats)\n",
    "scene_sequence.append(scene4)\n",
    "scene5 = Scene(actors, acting, screen)\n",
    "scene_sequence.append(scene5)\n",
    "\n",
    "for i in range scene_sequence:\n",
    "      scene_sequence[i].run()"
   ]
  },
  {
   "cell_type": "markdown",
   "metadata": {},
   "source": [
    "2\\. A farmer with his wolf, duck and bag of corn come to the east side of a river they wish to cross. There is a boat at the rivers edge, but of course only the farmer can row. The boat can only hold two things (including the rower) at any one time. If the wolf is ever left alone with the duck, the wolf will eat it. Similarly if the duck is ever left alone with the corn, the duck will eat it. How can the farmer get across the river so that all four arrive safely on the other side? "
   ]
  },
  {
   "cell_type": "raw",
   "metadata": {},
   "source": [
    "_your answer here..._ \n",
    "def move(role, side):\n",
    "     farmer takes the role to the side\n",
    "     default is 0\n",
    "move(duck, west)\n",
    "move(0,east)\n",
    "move(wolf, west)\n",
    "move(duck, east)\n",
    "move(corn, west)\n",
    "move(0, east)\n",
    "move(duck, west)\n",
    "     \n"
   ]
  },
  {
   "cell_type": "markdown",
   "metadata": {},
   "source": [
    " "
   ]
  },
  {
   "cell_type": "markdown",
   "metadata": {},
   "source": [
    "3\\.Explain why we determine our problem goals before we write the problem formulation (including the model and deciding what algorithm or techniques to use - for example search, or other method).\n",
    "\n",
    "See Chapter3.1 (Russel & Norvig)"
   ]
  },
  {
   "cell_type": "markdown",
   "metadata": {},
   "source": [
    "_your answer here..._ \n",
    "\n",
    "Goals help organize behavior by limiting the objectives that the agent is trying to achieve and hence the actions it needs to consider."
   ]
  },
  {
   "cell_type": "markdown",
   "metadata": {},
   "source": [
    "4\\. This question requires you to perform BFS and DFS on paper.\n",
    "\n",
    "<img src=\"img/p1.png\" width=\"180\" height=\"180\" >\n",
    "\n",
    "1. Simulate (on pencil-and-paper) breadth-first search starting from node A when the goal node is K.\n",
    "2. Simulate (on pencil-and-paper) depth first search starting from node A when the goal node is I.\n"
   ]
  },
  {
   "cell_type": "raw",
   "metadata": {},
   "source": [
    "1. _your answer here..._ \n",
    "A B C D E F H G I K\n",
    "2. _your answer here..._ \n",
    "A B C E F D H I K G\n"
   ]
  },
  {
   "cell_type": "markdown",
   "metadata": {},
   "source": [
    "5\\.Consider a state space where the start state is number 1 and each state  k has two successors: numbers 2k and 2k + 1.\n",
    "- a. Draw the portion of the state space for states 1 to 15.\n",
    "- b. Suppose the goal state is 11. List the order in which nodes will be visited for breadthfirst\n",
    "search, depth-limited search with limit 3, and iterative deepening search.\n",
    "- c. How well would bidirectional search work on this problem? What is the branching\n",
    "factor in each direction of the bidirectional search?\n",
    "- d. Does the answer to (c) suggest a reformulation of the problem that would allow you to\n",
    "solve the problem of getting from state 1 to a given goal state with almost no search?\n",
    "- e. Call the action going from k to 2k Left, and the action going to 2k + 1 Right. Can you\n",
    "find an algorithm that outputs the solution to this problem without any search at all?\n",
    "\n",
    "See textbook Chapter3.15"
   ]
  },
  {
   "cell_type": "raw",
   "metadata": {},
   "source": [
    "_your answer here..._ \n",
    "a. \n",
    "1——2，3——4，5，6，7——8，9，10，11，12，13，14，15\n",
    "b. \n",
    "breadthfirst search: 1 2 3 4 5 6 7 8 9 10 11\n",
    "depth-limited search: 1 2 4 8 9 5 10 11\n",
    "iterative deepening search: \n",
    "0: 1\n",
    "1: 1 2 3\n",
    "2: 1 2 4 5 3 6 7\n",
    "3: 1 2 4 8 9 5 10 11\n"
   ]
  },
  {
   "cell_type": "markdown",
   "metadata": {},
   "source": [
    "### Programming Excercises"
   ]
  },
  {
   "cell_type": "markdown",
   "metadata": {},
   "source": [
    "1\\.Write a program to solve a classic ancient Chinese puzzle:  \n",
    " We count 35 heads and 94 legs among the chickens and rabbits in a farm. How many rabbits and how many chickens do we have? "
   ]
  },
  {
   "cell_type": "code",
   "execution_count": 5,
   "metadata": {
    "scrolled": true
   },
   "outputs": [
    {
     "name": "stdout",
     "output_type": "stream",
     "text": [
      "chiken: 23 rabbit: 12\n"
     ]
    }
   ],
   "source": [
    "for i in range (0,36):\n",
    "    k = 35-i\n",
    "    if (2*i+4*k)==94:\n",
    "       print ('chiken: '+str(i)+' rabbit: '+str(k))"
   ]
  },
  {
   "cell_type": "markdown",
   "metadata": {},
   "source": [
    "2\\. _Social networking_ Please look at the graph below of social relationships. You have a mango farm, you need to find a mango buyer and sell him your mango that you have grown (just a small farm). To this end, our principle is to use our social network of friends separated by one degree, and then second degree friends (friends of friends), third degree friends (friends of friends of friends).\n",
    "\n",
    "Use the depth first algorithm to search your network until you find a mango seller. \n",
    "\n",
    "We make an assumption that if the person's name ends with m, then it means the person must be the mango seller!\n",
    "\n",
    "\n",
    "<img src=\"img/p3.png\" width=\"500\" height=\"400\" >"
   ]
  },
  {
   "cell_type": "code",
   "execution_count": 4,
   "metadata": {},
   "outputs": [],
   "source": [
    "## write your answer here!\n",
    "def DFS_socialnet(root):\n",
    "    stack = Stack()\n",
    "    stack.push(root)\n",
    "    visited=[]\n",
    "    while not stack.isEmpty():\n",
    "        current = stack.pop()\n",
    "        if current.endName == 'm':\n",
    "            return current\n",
    "        if current not in visited:\n",
    "            visited.append(current)\n",
    "            neighbor = current.getNext()\n",
    "            for node in neighbor:\n",
    "                if node.endName == 'm':\n",
    "                    return node\n",
    "                else:\n",
    "                    stack.push(node)"
   ]
  },
  {
   "cell_type": "markdown",
   "metadata": {},
   "source": [
    "3\\. Depth First traverse：Use depth first traversal to traverse all the DLL files on the C disk and output the file names.\n",
    "\n",
    "Update your code to search for a particular filename.\n",
    "\n",
    "What protocol did you use to select the next node to expand on the fringe?"
   ]
  },
  {
   "cell_type": "code",
   "execution_count": 2,
   "metadata": {},
   "outputs": [
    {
     "name": "stdout",
     "output_type": "stream",
     "text": [
      "/Users/wangholly/IdeaProjects/FXML-example/src/sample/Controller.java\n",
      "/Users/wangholly/IdeaProjects/FXML-example/src/sample/Main.java\n",
      "/Users/wangholly/IdeaProjects/Pro1/src/AutoCompleteComboBoxListener.java\n",
      "/Users/wangholly/IdeaProjects/Pro1/src/SqlCon.java\n",
      "/Users/wangholly/IdeaProjects/Pro1/src/Main.java\n",
      "/Users/wangholly/IdeaProjects/Pro1/src/Crawler.java\n",
      "/Users/wangholly/IdeaProjects/Pro1/src/EQ.java\n",
      "/Users/wangholly/IdeaProjects/Pro1/src/WorldMap.java\n",
      "/Users/wangholly/IdeaProjects/JavaFxDemo/src/Product.java\n",
      "/Users/wangholly/IdeaProjects/JavaFxDemo/src/AlertBox.java\n",
      "/Users/wangholly/IdeaProjects/JavaFxDemo/src/Person.java\n",
      "/Users/wangholly/IdeaProjects/JavaFxDemo/src/Main.java\n",
      "/Users/wangholly/IdeaProjects/JavaFxDemo/src/ConfirmBox.java\n",
      "/Users/wangholly/IdeaProjects/OJ/src/LoveKiki.java\n"
     ]
    }
   ],
   "source": [
    "## write your answer here!\n",
    "import os\n",
    "\n",
    "def dfs_search(start):\n",
    "    stack = []\n",
    "    stack.append(start)\n",
    "\n",
    "    while len(stack) > 0:\n",
    "        current = stack.pop()\n",
    "        fileList = os.listdir(current)\n",
    "\n",
    "        for i in fileList:\n",
    "            absPath = os.path.join(current, i)\n",
    "            if os.path.isdir(absPath):\n",
    "                stack.append(absPath)\n",
    "            else:\n",
    "                end = str(absPath).split('.')\n",
    "                test = end[len(end)-1]\n",
    "                if test == 'java':\n",
    "                    print(absPath)\n",
    "\n",
    "\n",
    "start = '/Users/wangholly/IdeaProjects'\n",
    "dfs_search(start)"
   ]
  },
  {
   "cell_type": "markdown",
   "metadata": {},
   "source": [
    "4\\.\n",
    "Breadth First traverse：Use breadth traversal to traverse all the DLL files on the C disk and output the filename.\n",
    "\n",
    "Update your code to search for a particular filename."
   ]
  },
  {
   "cell_type": "code",
   "execution_count": 3,
   "metadata": {},
   "outputs": [
    {
     "name": "stdout",
     "output_type": "stream",
     "text": [
      "/Users/wangholly/IdeaProjects/OJ/src/LoveKiki.java\n",
      "/Users/wangholly/IdeaProjects/JavaFxDemo/src/Product.java\n",
      "/Users/wangholly/IdeaProjects/JavaFxDemo/src/AlertBox.java\n",
      "/Users/wangholly/IdeaProjects/JavaFxDemo/src/Person.java\n",
      "/Users/wangholly/IdeaProjects/JavaFxDemo/src/Main.java\n",
      "/Users/wangholly/IdeaProjects/JavaFxDemo/src/ConfirmBox.java\n",
      "/Users/wangholly/IdeaProjects/Pro1/src/AutoCompleteComboBoxListener.java\n",
      "/Users/wangholly/IdeaProjects/Pro1/src/SqlCon.java\n",
      "/Users/wangholly/IdeaProjects/Pro1/src/Main.java\n",
      "/Users/wangholly/IdeaProjects/Pro1/src/Crawler.java\n",
      "/Users/wangholly/IdeaProjects/Pro1/src/EQ.java\n",
      "/Users/wangholly/IdeaProjects/Pro1/src/WorldMap.java\n",
      "/Users/wangholly/IdeaProjects/FXML-example/src/sample/Controller.java\n",
      "/Users/wangholly/IdeaProjects/FXML-example/src/sample/Main.java\n"
     ]
    }
   ],
   "source": [
    "## write your answer here!\n",
    "from collections import deque\n",
    "import os\n",
    "\n",
    "def bfs_search(start):\n",
    "    queue = deque()\n",
    "    queue.append(start)\n",
    "    while queue:\n",
    "        current = queue.popleft()\n",
    "        fileList = os.listdir(current)\n",
    "\n",
    "        for i in fileList:\n",
    "            absPath = os.path.join(current, i)\n",
    "            if os.path.isdir(absPath):\n",
    "                queue.append(absPath)\n",
    "            else:\n",
    "                end = str(absPath).split('.')\n",
    "                test = end[len(end)-1]\n",
    "                if test == 'java':\n",
    "                    print(absPath)\n",
    "\n",
    "start = '/Users/wangholly/IdeaProjects'\n",
    "bfs_search(start)"
   ]
  },
  {
   "cell_type": "markdown",
   "metadata": {},
   "source": [
    "5\\. Uniform cost search"
   ]
  },
  {
   "cell_type": "markdown",
   "metadata": {},
   "source": [
    "Consider a state space where the start state is 2 and each state k has three successors: numbers 2k, 2k+1, 2k+2. The cost from state k to each respective child is k, ground(k/2), k+2.\n",
    "\n",
    "can you implement a uniform-cost-search algorithm with python. The goal state is number 85."
   ]
  },
  {
   "cell_type": "code",
   "execution_count": 6,
   "metadata": {},
   "outputs": [
    {
     "name": "stdout",
     "output_type": "stream",
     "text": [
      "53\n"
     ]
    }
   ],
   "source": [
    "import math\n",
    "\n",
    "goal = 85\n",
    "state = [-1] * (goal + 1)\n",
    "state[2] = 0\n",
    "\n",
    "for k in range(2, int(goal/2 + 1)):\n",
    "    if state[k] < 0:\n",
    "        continue\n",
    "    for pos, cost in [ (k*2, k),(k*2 + 1, math.floor(k/2)), (k*2+2, k+2)]:\n",
    "        if pos > goal:\n",
    "            continue\n",
    "        if state[pos] == -1 or state[pos] > state[k] + cost:\n",
    "            state[pos] = state[k] + cost\n",
    "\n",
    "print(state[goal])\n"
   ]
  },
  {
   "cell_type": "markdown",
   "metadata": {},
   "source": [
    "6\\.a* question"
   ]
  },
  {
   "cell_type": "markdown",
   "metadata": {},
   "source": [
    "A cute cat stays in the A position, he is hungry. But the food is placed in the B position. Can you help him to find the food? \n",
    "Hint:  The problem isn't easy. It's essential for you to understand the A* algorithm before you solve this problem. Then, you can use some thought of Node in java, when you are in code.\n",
    "\n",
    "<img src=\"img/p4.png\" width=\"500\" height=\"400\" >\n"
   ]
  },
  {
   "cell_type": "code",
   "execution_count": null,
   "metadata": {},
   "outputs": [],
   "source": [
    "## write your answer here!\n",
    "def AStar(start, goal):\n",
    "    open_list = PriorityQueue()\n",
    "    visited = []\n",
    "    if start == goal:\n",
    "        return []\n",
    "    else:\n",
    "        open_list.push((start,[]),0)\n",
    "        while not open_list.isEmpty():\n",
    "            current, path = open_list.pop()\n",
    "            if goal == current:\n",
    "                return path\n",
    "            if current not in visited:\n",
    "                visited.append(current)\n",
    "                neighbor = current.nextNode()\n",
    "                for side, direction, cost in neighbor:\n",
    "                    newPath = current.+[direction]\n",
    "                    newCost = current.cost + cost + heuristic(side, problem)\n",
    "                    if side not in visited:\n",
    "                        open_list.push((side, newPath), newCost)\n",
    "                \n",
    "AStar(A, B)"
   ]
  }
 ],
 "metadata": {
  "kernelspec": {
   "display_name": "Python 3",
   "language": "python",
   "name": "python3"
  },
  "language_info": {
   "codemirror_mode": {
    "name": "ipython",
    "version": 3
   },
   "file_extension": ".py",
   "mimetype": "text/x-python",
   "name": "python",
   "nbconvert_exporter": "python",
   "pygments_lexer": "ipython3",
   "version": "3.6.5"
  }
 },
 "nbformat": 4,
 "nbformat_minor": 2
}
